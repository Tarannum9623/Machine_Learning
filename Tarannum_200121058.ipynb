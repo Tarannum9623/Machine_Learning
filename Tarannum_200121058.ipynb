{
 "cells": [
  {
   "cell_type": "code",
   "execution_count": 1,
   "id": "500c8e01",
   "metadata": {},
   "outputs": [
    {
     "name": "stdout",
     "output_type": "stream",
     "text": [
      "               ID Segment type Segment Description Answer        Count  \\\n",
      "0     292890.8970          web     Meridian, Idaho     No     0.000000   \n",
      "1     292887.9870          web     Meridian, Idaho     No     0.000000   \n",
      "2     292894.0656       gender     Meridian, Idaho     No   499.173606   \n",
      "3     292887.1180          web     Meridian, Idaho     No     0.000000   \n",
      "4     292893.6561       gender     Meridian, Idaho     No   455.925963   \n",
      "...           ...          ...                 ...    ...          ...   \n",
      "1891  292887.5496          web     Meridian, Idaho     No     0.000000   \n",
      "1892  292881.6932       mobile     Meridian, Idaho     No  1203.190399   \n",
      "1893  292900.8499       gender     Meridian, Idaho     No   806.378820   \n",
      "1894  292893.8600       gender     Meridian, Idaho     No  1149.529381   \n",
      "1895  292890.2944          web     Meridian, Idaho     No     0.000000   \n",
      "\n",
      "      Percentage  It became a relationship  \n",
      "0       0.000000                         0  \n",
      "1       0.000000                         0  \n",
      "2       0.225255                         0  \n",
      "3       0.000000                         0  \n",
      "4       0.211360                         0  \n",
      "...          ...                       ...  \n",
      "1891    0.000000                         0  \n",
      "1892    0.312360                         0  \n",
      "1893    0.488025                         0  \n",
      "1894    0.488984                         0  \n",
      "1895    0.000000                         0  \n",
      "\n",
      "[1896 rows x 7 columns]\n"
     ]
    }
   ],
   "source": [
    "import pandas as pd\n",
    "df = pd.read_csv('task2.csv')\n",
    "print(df)\n"
   ]
  },
  {
   "cell_type": "code",
   "execution_count": 2,
   "id": "04680e26",
   "metadata": {},
   "outputs": [
    {
     "data": {
      "text/html": [
       "<div>\n",
       "<style scoped>\n",
       "    .dataframe tbody tr th:only-of-type {\n",
       "        vertical-align: middle;\n",
       "    }\n",
       "\n",
       "    .dataframe tbody tr th {\n",
       "        vertical-align: top;\n",
       "    }\n",
       "\n",
       "    .dataframe thead th {\n",
       "        text-align: right;\n",
       "    }\n",
       "</style>\n",
       "<table border=\"1\" class=\"dataframe\">\n",
       "  <thead>\n",
       "    <tr style=\"text-align: right;\">\n",
       "      <th></th>\n",
       "      <th>ID</th>\n",
       "      <th>Count</th>\n",
       "      <th>Percentage</th>\n",
       "      <th>It became a relationship</th>\n",
       "    </tr>\n",
       "  </thead>\n",
       "  <tbody>\n",
       "    <tr>\n",
       "      <th>count</th>\n",
       "      <td>1896.000000</td>\n",
       "      <td>1896.000000</td>\n",
       "      <td>1896.000000</td>\n",
       "      <td>1896.000000</td>\n",
       "    </tr>\n",
       "    <tr>\n",
       "      <th>mean</th>\n",
       "      <td>292999.394750</td>\n",
       "      <td>446.881267</td>\n",
       "      <td>0.254098</td>\n",
       "      <td>0.350738</td>\n",
       "    </tr>\n",
       "    <tr>\n",
       "      <th>std</th>\n",
       "      <td>227.809806</td>\n",
       "      <td>494.110578</td>\n",
       "      <td>0.220809</td>\n",
       "      <td>0.477327</td>\n",
       "    </tr>\n",
       "    <tr>\n",
       "      <th>min</th>\n",
       "      <td>292881.000000</td>\n",
       "      <td>0.000000</td>\n",
       "      <td>0.000000</td>\n",
       "      <td>0.000000</td>\n",
       "    </tr>\n",
       "    <tr>\n",
       "      <th>25%</th>\n",
       "      <td>292888.196925</td>\n",
       "      <td>0.000000</td>\n",
       "      <td>0.000000</td>\n",
       "      <td>0.000000</td>\n",
       "    </tr>\n",
       "    <tr>\n",
       "      <th>50%</th>\n",
       "      <td>292893.904400</td>\n",
       "      <td>400.439633</td>\n",
       "      <td>0.257873</td>\n",
       "      <td>0.000000</td>\n",
       "    </tr>\n",
       "    <tr>\n",
       "      <th>75%</th>\n",
       "      <td>292902.568750</td>\n",
       "      <td>845.560798</td>\n",
       "      <td>0.396787</td>\n",
       "      <td>1.000000</td>\n",
       "    </tr>\n",
       "    <tr>\n",
       "      <th>max</th>\n",
       "      <td>293785.000000</td>\n",
       "      <td>1969.000000</td>\n",
       "      <td>1.000000</td>\n",
       "      <td>1.000000</td>\n",
       "    </tr>\n",
       "  </tbody>\n",
       "</table>\n",
       "</div>"
      ],
      "text/plain": [
       "                  ID        Count   Percentage  It became a relationship\n",
       "count    1896.000000  1896.000000  1896.000000               1896.000000\n",
       "mean   292999.394750   446.881267     0.254098                  0.350738\n",
       "std       227.809806   494.110578     0.220809                  0.477327\n",
       "min    292881.000000     0.000000     0.000000                  0.000000\n",
       "25%    292888.196925     0.000000     0.000000                  0.000000\n",
       "50%    292893.904400   400.439633     0.257873                  0.000000\n",
       "75%    292902.568750   845.560798     0.396787                  1.000000\n",
       "max    293785.000000  1969.000000     1.000000                  1.000000"
      ]
     },
     "execution_count": 2,
     "metadata": {},
     "output_type": "execute_result"
    }
   ],
   "source": [
    "df.describe()\n"
   ]
  },
  {
   "cell_type": "code",
   "execution_count": 3,
   "id": "e9bb2897",
   "metadata": {},
   "outputs": [],
   "source": [
    "import matplotlib.pyplot as plt\n",
    "%matplotlib inline\n"
   ]
  },
  {
   "cell_type": "code",
   "execution_count": 4,
   "id": "34af0ece",
   "metadata": {},
   "outputs": [
    {
     "data": {
      "text/plain": [
       "<matplotlib.collections.PathCollection at 0x111677609d0>"
      ]
     },
     "execution_count": 4,
     "metadata": {},
     "output_type": "execute_result"
    },
    {
     "data": {
      "image/png": "[encoded data removed]",
      "text/plain": [
       "<Figure size 432x288 with 1 Axes>"
      ]
     },
     "metadata": {
      "needs_background": "light"
     },
     "output_type": "display_data"
    }
   ],
   "source": [
    "plt.scatter(df['Count'],df['It became a relationship'])\n"
   ]
  },
  {
   "cell_type": "code",
   "execution_count": 5,
   "id": "54d494b5",
   "metadata": {},
   "outputs": [
    {
     "data": {
      "text/plain": [
       "<matplotlib.collections.PathCollection at 0x1116785e490>"
      ]
     },
     "execution_count": 5,
     "metadata": {},
     "output_type": "execute_result"
    },
    {
     "data": {
      "image/png": "[encoded data removed]",
      "text/plain": [
       "<Figure size 432x288 with 1 Axes>"
      ]
     },
     "metadata": {
      "needs_background": "light"
     },
     "output_type": "display_data"
    }
   ],
   "source": [
    "plt.scatter(df['It became a relationship'],df['Count'])"
   ]
  },
  {
   "cell_type": "code",
   "execution_count": 6,
   "id": "caebee66",
   "metadata": {},
   "outputs": [
    {
     "data": {
      "text/plain": [
       "<matplotlib.collections.PathCollection at 0x111678c63a0>"
      ]
     },
     "execution_count": 6,
     "metadata": {},
     "output_type": "execute_result"
    },
    {
     "data": {
      "image/png": "[encoded data removed]",
      "text/plain": [
       "<Figure size 432x288 with 1 Axes>"
      ]
     },
     "metadata": {
      "needs_background": "light"
     },
     "output_type": "display_data"
    }
   ],
   "source": [
    "plt.scatter(df['It became a relationship'],df['Percentage'])"
   ]
  },
  {
   "cell_type": "code",
   "execution_count": 29,
   "id": "0aa680d8",
   "metadata": {},
   "outputs": [],
   "source": [
    "x = df[['Count','Percentage']]\n",
    "y = df['It became a relationship']"
   ]
  },
  {
   "cell_type": "code",
   "execution_count": 30,
   "id": "64151862",
   "metadata": {},
   "outputs": [
    {
     "data": {
      "text/html": [
       "<div>\n",
       "<style scoped>\n",
       "    .dataframe tbody tr th:only-of-type {\n",
       "        vertical-align: middle;\n",
       "    }\n",
       "\n",
       "    .dataframe tbody tr th {\n",
       "        vertical-align: top;\n",
       "    }\n",
       "\n",
       "    .dataframe thead th {\n",
       "        text-align: right;\n",
       "    }\n",
       "</style>\n",
       "<table border=\"1\" class=\"dataframe\">\n",
       "  <thead>\n",
       "    <tr style=\"text-align: right;\">\n",
       "      <th></th>\n",
       "      <th>Count</th>\n",
       "      <th>Percentage</th>\n",
       "    </tr>\n",
       "  </thead>\n",
       "  <tbody>\n",
       "    <tr>\n",
       "      <th>0</th>\n",
       "      <td>0.000000</td>\n",
       "      <td>0.000000</td>\n",
       "    </tr>\n",
       "    <tr>\n",
       "      <th>1</th>\n",
       "      <td>0.000000</td>\n",
       "      <td>0.000000</td>\n",
       "    </tr>\n",
       "    <tr>\n",
       "      <th>2</th>\n",
       "      <td>499.173606</td>\n",
       "      <td>0.225255</td>\n",
       "    </tr>\n",
       "    <tr>\n",
       "      <th>3</th>\n",
       "      <td>0.000000</td>\n",
       "      <td>0.000000</td>\n",
       "    </tr>\n",
       "    <tr>\n",
       "      <th>4</th>\n",
       "      <td>455.925963</td>\n",
       "      <td>0.211360</td>\n",
       "    </tr>\n",
       "    <tr>\n",
       "      <th>...</th>\n",
       "      <td>...</td>\n",
       "      <td>...</td>\n",
       "    </tr>\n",
       "    <tr>\n",
       "      <th>1891</th>\n",
       "      <td>0.000000</td>\n",
       "      <td>0.000000</td>\n",
       "    </tr>\n",
       "    <tr>\n",
       "      <th>1892</th>\n",
       "      <td>1203.190399</td>\n",
       "      <td>0.312360</td>\n",
       "    </tr>\n",
       "    <tr>\n",
       "      <th>1893</th>\n",
       "      <td>806.378820</td>\n",
       "      <td>0.488025</td>\n",
       "    </tr>\n",
       "    <tr>\n",
       "      <th>1894</th>\n",
       "      <td>1149.529381</td>\n",
       "      <td>0.488984</td>\n",
       "    </tr>\n",
       "    <tr>\n",
       "      <th>1895</th>\n",
       "      <td>0.000000</td>\n",
       "      <td>0.000000</td>\n",
       "    </tr>\n",
       "  </tbody>\n",
       "</table>\n",
       "<p>1896 rows × 2 columns</p>\n",
       "</div>"
      ],
      "text/plain": [
       "            Count  Percentage\n",
       "0        0.000000    0.000000\n",
       "1        0.000000    0.000000\n",
       "2      499.173606    0.225255\n",
       "3        0.000000    0.000000\n",
       "4      455.925963    0.211360\n",
       "...           ...         ...\n",
       "1891     0.000000    0.000000\n",
       "1892  1203.190399    0.312360\n",
       "1893   806.378820    0.488025\n",
       "1894  1149.529381    0.488984\n",
       "1895     0.000000    0.000000\n",
       "\n",
       "[1896 rows x 2 columns]"
      ]
     },
     "execution_count": 30,
     "metadata": {},
     "output_type": "execute_result"
    }
   ],
   "source": [
    "x"
   ]
  },
  {
   "cell_type": "code",
   "execution_count": 31,
   "id": "e3ba4497",
   "metadata": {},
   "outputs": [
    {
     "data": {
      "text/plain": [
       "0       0\n",
       "1       0\n",
       "2       0\n",
       "3       0\n",
       "4       0\n",
       "       ..\n",
       "1891    0\n",
       "1892    0\n",
       "1893    0\n",
       "1894    0\n",
       "1895    0\n",
       "Name: It became a relationship, Length: 1896, dtype: int64"
      ]
     },
     "execution_count": 31,
     "metadata": {},
     "output_type": "execute_result"
    }
   ],
   "source": [
    "y"
   ]
  },
  {
   "cell_type": "code",
   "execution_count": 32,
   "id": "5bfff0fe",
   "metadata": {},
   "outputs": [],
   "source": [
    "from sklearn.model_selection import train_test_split"
   ]
  },
  {
   "cell_type": "code",
   "execution_count": 33,
   "id": "64aace30",
   "metadata": {},
   "outputs": [],
   "source": [
    "x_train, x_test, y_train, y_test = train_test_split(x,y,test_size=0.2)"
   ]
  },
  {
   "cell_type": "code",
   "execution_count": 34,
   "id": "30a5b02f",
   "metadata": {},
   "outputs": [
    {
     "data": {
      "text/plain": [
       "1516"
      ]
     },
     "execution_count": 34,
     "metadata": {},
     "output_type": "execute_result"
    }
   ],
   "source": [
    "len(x_train)"
   ]
  },
  {
   "cell_type": "code",
   "execution_count": 35,
   "id": "eb323b7f",
   "metadata": {},
   "outputs": [
    {
     "data": {
      "text/plain": [
       "380"
      ]
     },
     "execution_count": 35,
     "metadata": {},
     "output_type": "execute_result"
    }
   ],
   "source": [
    "len(x_test)"
   ]
  },
  {
   "cell_type": "code",
   "execution_count": 36,
   "id": "a5d6d324",
   "metadata": {},
   "outputs": [
    {
     "data": {
      "text/html": [
       "<div>\n",
       "<style scoped>\n",
       "    .dataframe tbody tr th:only-of-type {\n",
       "        vertical-align: middle;\n",
       "    }\n",
       "\n",
       "    .dataframe tbody tr th {\n",
       "        vertical-align: top;\n",
       "    }\n",
       "\n",
       "    .dataframe thead th {\n",
       "        text-align: right;\n",
       "    }\n",
       "</style>\n",
       "<table border=\"1\" class=\"dataframe\">\n",
       "  <thead>\n",
       "    <tr style=\"text-align: right;\">\n",
       "      <th></th>\n",
       "      <th>Count</th>\n",
       "      <th>Percentage</th>\n",
       "    </tr>\n",
       "  </thead>\n",
       "  <tbody>\n",
       "    <tr>\n",
       "      <th>1258</th>\n",
       "      <td>0.000000</td>\n",
       "      <td>0.000000</td>\n",
       "    </tr>\n",
       "    <tr>\n",
       "      <th>172</th>\n",
       "      <td>387.666964</td>\n",
       "      <td>0.204395</td>\n",
       "    </tr>\n",
       "    <tr>\n",
       "      <th>108</th>\n",
       "      <td>430.013234</td>\n",
       "      <td>0.208716</td>\n",
       "    </tr>\n",
       "    <tr>\n",
       "      <th>845</th>\n",
       "      <td>660.673985</td>\n",
       "      <td>0.347617</td>\n",
       "    </tr>\n",
       "    <tr>\n",
       "      <th>580</th>\n",
       "      <td>1008.372154</td>\n",
       "      <td>0.261827</td>\n",
       "    </tr>\n",
       "    <tr>\n",
       "      <th>...</th>\n",
       "      <td>...</td>\n",
       "      <td>...</td>\n",
       "    </tr>\n",
       "    <tr>\n",
       "      <th>1762</th>\n",
       "      <td>0.000000</td>\n",
       "      <td>0.000000</td>\n",
       "    </tr>\n",
       "    <tr>\n",
       "      <th>500</th>\n",
       "      <td>10.000000</td>\n",
       "      <td>0.385000</td>\n",
       "    </tr>\n",
       "    <tr>\n",
       "      <th>470</th>\n",
       "      <td>795.038609</td>\n",
       "      <td>0.395337</td>\n",
       "    </tr>\n",
       "    <tr>\n",
       "      <th>142</th>\n",
       "      <td>921.304910</td>\n",
       "      <td>0.239243</td>\n",
       "    </tr>\n",
       "    <tr>\n",
       "      <th>827</th>\n",
       "      <td>0.000000</td>\n",
       "      <td>0.000000</td>\n",
       "    </tr>\n",
       "  </tbody>\n",
       "</table>\n",
       "<p>1516 rows × 2 columns</p>\n",
       "</div>"
      ],
      "text/plain": [
       "            Count  Percentage\n",
       "1258     0.000000    0.000000\n",
       "172    387.666964    0.204395\n",
       "108    430.013234    0.208716\n",
       "845    660.673985    0.347617\n",
       "580   1008.372154    0.261827\n",
       "...           ...         ...\n",
       "1762     0.000000    0.000000\n",
       "500     10.000000    0.385000\n",
       "470    795.038609    0.395337\n",
       "142    921.304910    0.239243\n",
       "827      0.000000    0.000000\n",
       "\n",
       "[1516 rows x 2 columns]"
      ]
     },
     "execution_count": 36,
     "metadata": {},
     "output_type": "execute_result"
    }
   ],
   "source": [
    "x_train"
   ]
  },
  {
   "cell_type": "code",
   "execution_count": 37,
   "id": "5bf37006",
   "metadata": {},
   "outputs": [],
   "source": [
    "from sklearn.linear_model import LinearRegression\n",
    "clf = LinearRegression()"
   ]
  },
  {
   "cell_type": "code",
   "execution_count": 38,
   "id": "6abde019",
   "metadata": {},
   "outputs": [
    {
     "data": {
      "text/plain": [
       "LinearRegression()"
      ]
     },
     "execution_count": 38,
     "metadata": {},
     "output_type": "execute_result"
    }
   ],
   "source": [
    "clf.fit(x_train,y_train)"
   ]
  },
  {
   "cell_type": "code",
   "execution_count": 39,
   "id": "14736536",
   "metadata": {},
   "outputs": [
    {
     "data": {
      "text/plain": [
       "array([0.36270376, 0.52060865, 0.59655049, 0.4008855 , 0.42408533,\n",
       "       0.35463537, 0.43465847, 0.46796799, 0.17129323, 0.17129323,\n",
       "       0.17129323, 0.53108038, 0.17129323, 0.35480597, 0.17129323,\n",
       "       0.49414913, 0.41681523, 0.38504653, 0.37432581, 0.19253646,\n",
       "       0.17129323, 0.17129323, 0.17129323, 0.38514577, 0.17129323,\n",
       "       0.51090033, 0.37040991, 0.44163652, 0.4208922 , 0.3542659 ,\n",
       "       0.27050692, 0.17129323, 0.33171406, 0.17129323, 0.42601147,\n",
       "       0.37215118, 0.17129323, 0.5190505 , 0.47237262, 0.48901132,\n",
       "       0.17129323, 0.17129323, 0.35916341, 0.54864225, 0.37951876,\n",
       "       0.36283871, 0.17129323, 0.42942482, 0.57983222, 0.35854482,\n",
       "       0.36303316, 0.72741796, 0.17129323, 0.17129323, 0.36815539,\n",
       "       0.43581539, 0.38827948, 0.38693392, 0.17129323, 0.38923981,\n",
       "       0.38522003, 0.62724952, 0.17129323, 0.17129323, 0.38859918,\n",
       "       0.46117402, 0.41361672, 0.17129323, 0.24157406, 0.17129323,\n",
       "       0.58636733, 0.33406365, 0.47611025, 0.40833279, 0.33312988,\n",
       "       0.49534515, 0.17129323, 0.51408125, 0.17129323, 0.57611997,\n",
       "       0.49311376, 0.17129323, 0.37295535, 0.17129323, 0.55369898,\n",
       "       0.28021337, 0.58744356, 0.3755426 , 0.17129323, 0.49184848,\n",
       "       0.46843148, 0.17129323, 0.17129323, 0.17129323, 0.23544769,\n",
       "       0.76456278, 0.41274115, 0.34821639, 0.56651647, 0.42843937,\n",
       "       0.47925136, 0.49266665, 0.480574  , 0.39018599, 0.39455877,\n",
       "       0.39104595, 0.55333395, 0.17129323, 0.36522549, 0.27997596,\n",
       "       0.50696988, 0.17129323, 0.17129323, 0.53543558, 0.48931351,\n",
       "       0.17129323, 0.37677866, 0.17129323, 0.35785666, 0.37878737,\n",
       "       0.17129323, 0.17129323, 0.31967059, 0.57091894, 0.4224208 ,\n",
       "       0.58680153, 0.48171436, 0.55511265, 0.54381086, 0.17129323,\n",
       "       0.17129323, 0.36050393, 0.31967059, 0.37290675, 0.17129323,\n",
       "       0.49837133, 0.45280057, 0.55953611, 0.32961621, 0.17129323,\n",
       "       0.17129323, 0.42978503, 0.37083188, 0.50343955, 0.44133173,\n",
       "       0.43091785, 0.43776124, 0.48771422, 0.34088721, 0.49129238,\n",
       "       0.17129323, 0.51601144, 0.46959142, 0.52973092, 0.50281381,\n",
       "       0.49549184, 0.34056516, 0.49447427, 0.17129323, 0.17129323,\n",
       "       0.51312864, 0.49727005, 0.58060734, 0.61642532, 0.51513767,\n",
       "       0.36648231, 0.39274873, 0.52788348, 0.17129323, 0.17129323,\n",
       "       0.37297176, 0.31253208, 0.20932431, 0.17129323, 0.38129753,\n",
       "       0.51651763, 0.33287873, 0.408729  , 0.39664239, 0.57128702,\n",
       "       0.17129323, 0.17129323, 0.47574465, 0.44158011, 0.43531487,\n",
       "       0.4085065 , 0.17129323, 0.48710389, 0.17129323, 0.41665932,\n",
       "       0.17129323, 0.62794273, 0.43498928, 0.17129323, 0.36536115,\n",
       "       0.54954643, 0.56184189, 0.17129323, 0.17129323, 0.51156577,\n",
       "       0.17129323, 0.40291724, 0.36705964, 0.42831898, 0.36840418,\n",
       "       0.49434975, 0.39729843, 0.48226276, 0.17129323, 0.24552189,\n",
       "       0.48187561, 0.17129323, 0.17129323, 0.51476316, 0.48394989,\n",
       "       0.42891046, 0.39179991, 0.45034992, 0.17129323, 0.17129323,\n",
       "       0.45889428, 0.4357367 , 0.46804796, 0.46251247, 0.38679085,\n",
       "       0.17129323, 0.40181723, 0.31713271, 0.17129323, 0.23701066,\n",
       "       0.17129323, 0.38689937, 0.5186815 , 0.50770258, 0.17129323,\n",
       "       0.39739886, 0.74349564, 0.31967059, 0.17129323, 0.39103409,\n",
       "       0.53560348, 0.53937922, 0.47361382, 0.56206533, 0.43035551,\n",
       "       0.3426717 , 0.39271184, 0.408729  , 0.17129323, 0.34811645,\n",
       "       0.76456278, 0.17129323, 0.17129323, 0.38516722, 0.39091545,\n",
       "       0.55808519, 0.39408695, 0.39120629, 0.52129815, 0.3516264 ,\n",
       "       0.17129323, 0.17129323, 0.4408293 , 0.17129323, 0.3286519 ,\n",
       "       0.45630944, 0.59972246, 0.46804796, 0.43034374, 0.39204642,\n",
       "       0.17129323, 0.49290078, 0.51589908, 0.33656377, 0.55047361,\n",
       "       0.17129323, 0.33870081, 0.39445354, 0.64294006, 0.36753683,\n",
       "       0.34255615, 0.17129323, 0.42075209, 0.17129323, 0.45459927,\n",
       "       0.45294293, 0.39280819, 0.31473489, 0.17129323, 0.36429388,\n",
       "       0.17129323, 0.17129323, 0.17129323, 0.17129323, 0.38699015,\n",
       "       0.53014665, 0.32814055, 0.43540251, 0.17129323, 0.43248609,\n",
       "       0.76472272, 0.17129323, 0.36492399, 0.64616477, 0.17129323,\n",
       "       0.40714282, 0.37705994, 0.3147989 , 0.3837487 , 0.17129323,\n",
       "       0.17129323, 0.5404742 , 0.76456278, 0.57100861, 0.17129323,\n",
       "       0.33873619, 0.41771904, 0.36313739, 0.36953603, 0.32983385,\n",
       "       0.17129323, 0.3362724 , 0.17129323, 0.51894253, 0.38504099,\n",
       "       0.17129323, 0.17129323, 0.47595461, 0.17129323, 0.56399001,\n",
       "       0.41078591, 0.17129323, 0.38479246, 0.31304726, 0.17129323,\n",
       "       0.51594672, 0.36890533, 0.36271845, 0.17129323, 0.56711062,\n",
       "       0.53797935, 0.51916457, 0.61642532, 0.38413283, 0.2705958 ,\n",
       "       0.5381179 , 0.38556054, 0.50034064, 0.76464275, 0.17129323,\n",
       "       0.3543672 , 0.25427998, 0.39263149, 0.49808168, 0.17129323,\n",
       "       0.17129323, 0.33793245, 0.29267307, 0.17129323, 0.17129323,\n",
       "       0.17129323, 0.49415493, 0.17129323, 0.17129323, 0.17129323,\n",
       "       0.17129323, 0.41224766, 0.17129323, 0.17129323, 0.37376775,\n",
       "       0.6384199 , 0.17129323, 0.51003477, 0.30490058, 0.52586879,\n",
       "       0.5913657 , 0.37533961, 0.23931669, 0.30591386, 0.56342208])"
      ]
     },
     "execution_count": 39,
     "metadata": {},
     "output_type": "execute_result"
    }
   ],
   "source": [
    "clf.predict(x_test)"
   ]
  },
  {
   "cell_type": "code",
   "execution_count": 40,
   "id": "9f6fcc48",
   "metadata": {},
   "outputs": [
    {
     "data": {
      "text/plain": [
       "1492    0\n",
       "250     1\n",
       "1253    0\n",
       "81      0\n",
       "851     1\n",
       "       ..\n",
       "1021    0\n",
       "1187    0\n",
       "106     0\n",
       "475     0\n",
       "502     0\n",
       "Name: It became a relationship, Length: 380, dtype: int64"
      ]
     },
     "execution_count": 40,
     "metadata": {},
     "output_type": "execute_result"
    }
   ],
   "source": [
    "y_test"
   ]
  },
  {
   "cell_type": "code",
   "execution_count": 41,
   "id": "b31e460f",
   "metadata": {},
   "outputs": [
    {
     "data": {
      "text/plain": [
       "0.09800689648062022"
      ]
     },
     "execution_count": 41,
     "metadata": {},
     "output_type": "execute_result"
    }
   ],
   "source": [
    "clf.score(x_test,y_test)"
   ]
  },
  {
   "cell_type": "code",
   "execution_count": null,
   "id": "2a4cf364",
   "metadata": {},
   "outputs": [],
   "source": []
  }
 ],
 "metadata": {
  "kernelspec": {
   "display_name": "Python 3",
   "language": "python",
   "name": "python3"
  },
  "language_info": {
   "codemirror_mode": {
    "name": "ipython",
    "version": 3
   },
   "file_extension": ".py",
   "mimetype": "text/x-python",
   "name": "python",
   "nbconvert_exporter": "python",
   "pygments_lexer": "ipython3",
   "version": "3.8.8"
  }
 },
 "nbformat": 4,
 "nbformat_minor": 5
}
